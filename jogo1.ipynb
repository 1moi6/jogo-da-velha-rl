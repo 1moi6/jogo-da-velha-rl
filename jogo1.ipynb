{
 "cells": [
  {
   "cell_type": "code",
   "execution_count": 146,
   "metadata": {},
   "outputs": [],
   "source": [
    "import random\n",
    "\n",
    "def fim_ch(s):\n",
    "    d1 = s[0][0]+s[1][1]+s[2][2]\n",
    "    d2 = s[0][2]+s[1][1]+s[2][0]\n",
    "    l1 = s[0][0]+s[0][1]+s[0][2]\n",
    "    l2 = s[1][0]+s[1][1]+s[1][2]\n",
    "    l3 = s[2][0]+s[2][1]+s[2][2]\n",
    "    c1 = s[0][0]+s[1][0]+s[2][0]\n",
    "    c2 = s[0][1]+s[1][1]+s[2][1]\n",
    "    c3 = s[0][2]+s[1][2]+s[2][2]\n",
    "    perdeu = any([d1==-3,d2==-3,l1==-3,l2==-3,l3==-3,c1==-3,c2==-3,c3==-3])\n",
    "    ganhou = any([d1==3,d2==3,l1==3,l2==3,l3==3,c1==3,c2==3,c3==3])\n",
    "    if ganhou:\n",
    "        rwd = 1\n",
    "    elif perdeu:\n",
    "        rwd = -1\n",
    "    else:\n",
    "        rwd = 0 \n",
    "    \n",
    "    fnj = sum(x == 0 for row in s for x in row)\n",
    "    \n",
    "    fim = (perdeu or ganhou or fnj==0)\n",
    "    return fim, rwd\n",
    "\n",
    "def novoestado(s):\n",
    "    ns = [[cl for cl in lin] for lin in s]\n",
    "    empty = [[i,j] for i,lin in enumerate(s) for j,col in enumerate(lin) if col==0 ]\n",
    "    \n",
    "    a_player1 = []\n",
    "    if len(empty)>0:\n",
    "        a_player1 = random.choice(empty)\n",
    "        empty.remove(a_player1)\n",
    "        ns[a_player1[0]][a_player1[1]] = 1\n",
    "    \n",
    "    a_player2 = []\n",
    "    if len(empty)>0:\n",
    "        a_player2 = random.choice(empty)\n",
    "        ns[a_player2[0]][a_player2[1]] = -1\n",
    "    return ns, [a_player1,a_player2]\n",
    "\n",
    "def novoestado3(s):\n",
    "    ns = [[cl for cl in lin] for lin in s]\n",
    "    empty = [[i,j] for i,lin in enumerate(s) for j,col in enumerate(lin) if col==0 ]\n",
    "    \n",
    "    a_player1 = []\n",
    "    if len(empty)>0:\n",
    "        a_player1 = random.choice(empty)\n",
    "        empty.remove(a_player1)\n",
    "        ns[a_player1[0]][a_player1[1]] = 1\n",
    "    \n",
    "    a_player2 = []\n",
    "    cndf,_ = fim_ch(ns)\n",
    "    if len(empty)>0 and not cndf:\n",
    "        a_player2 = random.choice(empty)\n",
    "        ns[a_player2[0]][a_player2[1]] = -1\n",
    "    return ns, [a_player1,a_player2]\n",
    "\n",
    "def novoestado2(s,val):\n",
    "    ns = [[cl for cl in lin] for lin in s]\n",
    "    empty = [[i,j] for i,lin in enumerate(s) for j,col in enumerate(lin) if col==0 ]\n",
    "    \n",
    "    jogada = []\n",
    "    if len(empty)>0:\n",
    "        jogada = random.choice(empty)\n",
    "        empty.remove(jogada)\n",
    "        ns[jogada[0]][jogada[1]] = val\n",
    "\n",
    "    return ns, [jogada[0]+1,jogada[1]+1]\n",
    "\n",
    "def jogo(s0):\n",
    "    fim,rwd = fim_ch(s0)\n",
    "    S = [s0]\n",
    "    J = []\n",
    "    while(not fim):\n",
    "        s1, jog = novoestado(s0)\n",
    "        fim,rwd = fim_ch(s1)\n",
    "        s0 = [[cl for cl in lin] for lin in s1]\n",
    "        S.append(s0)\n",
    "        J.append(jog)\n",
    "    \n",
    "    return S,J,rwd\n",
    "\n",
    "\n",
    "def jogo2(s0):\n",
    "    fim,rwd = fim_ch(s0)\n",
    "    S = [s0]\n",
    "    J = []\n",
    "    nm = 0\n",
    "    while(not fim):\n",
    "        nm = nm+1\n",
    "        s1, jog = novoestado2(s0,2*(nm%2-0.5))\n",
    "        fim,rwd = fim_ch(s1)\n",
    "        s0 = [[cl for cl in lin] for lin in s1]\n",
    "        S.append(s0)\n",
    "        J.append(jog)\n",
    "    \n",
    "    return S,J,rwd\n",
    "\n",
    "def jogo3(s0):\n",
    "    fim,rwd = fim_ch(s0)\n",
    "    S = [s0]\n",
    "    J = []\n",
    "    while(not fim):\n",
    "        s1, jog = novoestado3(s0)\n",
    "        fim,rwd = fim_ch(s1)\n",
    "        s0 = [[cl for cl in lin] for lin in s1]\n",
    "        S.append(s0)\n",
    "        J.append(jog)\n",
    "    \n",
    "    return S,J,rwd\n"
   ]
  },
  {
   "cell_type": "code",
   "execution_count": 154,
   "metadata": {},
   "outputs": [
    {
     "name": "stdout",
     "output_type": "stream",
     "text": [
      "[[[1, 2], [1, 0]], [[2, 1], [2, 0]], [[2, 2], [0, 0]]] -1\n"
     ]
    }
   ],
   "source": [
    "s0 = [[0,0,0],[0,0,0],[0,0,0]]\n",
    "S,J,rwd = jogo3(s0)\n",
    "print(J,rwd)"
   ]
  },
  {
   "cell_type": "code",
   "execution_count": 124,
   "metadata": {},
   "outputs": [
    {
     "name": "stdout",
     "output_type": "stream",
     "text": [
      "True 0\n"
     ]
    }
   ],
   "source": [
    "fim, rwd = fim_ch(s0)\n",
    "print(fim, rwd)"
   ]
  },
  {
   "cell_type": "code",
   "execution_count": 133,
   "metadata": {},
   "outputs": [
    {
     "data": {
      "text/plain": [
       "-1.0"
      ]
     },
     "execution_count": 133,
     "metadata": {},
     "output_type": "execute_result"
    }
   ],
   "source": [
    "2*(4%2-0.5)"
   ]
  }
 ],
 "metadata": {
  "kernelspec": {
   "display_name": "basico",
   "language": "python",
   "name": "python3"
  },
  "language_info": {
   "codemirror_mode": {
    "name": "ipython",
    "version": 3
   },
   "file_extension": ".py",
   "mimetype": "text/x-python",
   "name": "python",
   "nbconvert_exporter": "python",
   "pygments_lexer": "ipython3",
   "version": "3.10.8"
  },
  "orig_nbformat": 4,
  "vscode": {
   "interpreter": {
    "hash": "c465bf73b49a10f80478bca24b58099e5ba305018ffe2f60e88c492037de4269"
   }
  }
 },
 "nbformat": 4,
 "nbformat_minor": 2
}
